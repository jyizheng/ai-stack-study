{
 "cells": [
  {
   "cell_type": "markdown",
   "metadata": {},
   "source": [
    "## Import library\n"
   ]
  },
  {
   "cell_type": "code",
   "execution_count": 3,
   "metadata": {},
   "outputs": [],
   "source": [
    "import torch\n",
    "import torch.nn as nn\n",
    "import torch.nn.functional as F\n",
    "import torchvision\n",
    "from torch.utils.data import DataLoader\n",
    "from torchvision import transforms\n",
    "import matplotlib.pyplot as plt"
   ]
  },
  {
   "cell_type": "markdown",
   "metadata": {},
   "source": [
    "## Define the Neural Network"
   ]
  },
  {
   "cell_type": "code",
   "execution_count": 14,
   "metadata": {},
   "outputs": [],
   "source": [
    "class VAE(nn.Module):\n",
    "    def __init__(self, input_dim=784, hidden_dim=400, latent_dim=20):\n",
    "        super(VAE, self).__init__()\n",
    "        \n",
    "        # Encoder\n",
    "        self.encoder = nn.Sequential(\n",
    "            nn.Linear(input_dim, hidden_dim),\n",
    "            nn.ReLU()\n",
    "        )\n",
    "        \n",
    "        # Latent space\n",
    "        self.fc_mu = nn.Linear(hidden_dim, latent_dim)\n",
    "        self.fc_var = nn.Linear(hidden_dim, latent_dim)\n",
    "        \n",
    "        # Decoder\n",
    "        self.decoder = nn.Sequential(\n",
    "            nn.Linear(latent_dim, hidden_dim),\n",
    "            nn.ReLU(),\n",
    "            nn.Linear(hidden_dim, input_dim),\n",
    "            nn.Sigmoid()\n",
    "        )\n",
    "        \n",
    "    def encode(self, x):\n",
    "        h = self.encoder(x)\n",
    "        return self.fc_mu(h), self.fc_var(h)\n",
    "    \n",
    "    def reparameterize(self, mu, log_var):\n",
    "        std = torch.exp(0.5 * log_var)\n",
    "        eps = torch.randn_like(std)\n",
    "        return mu + eps * std\n",
    "    \n",
    "    def decode(self, z):\n",
    "        return self.decoder(z)\n",
    "    \n",
    "    def forward(self, x):\n",
    "        mu, log_var = self.encode(x)\n",
    "        z = self.reparameterize(mu, log_var)\n",
    "        return self.decode(z), mu, log_var"
   ]
  },
  {
   "cell_type": "markdown",
   "metadata": {},
   "source": [
    "## Training Process"
   ]
  },
  {
   "cell_type": "code",
   "execution_count": 26,
   "metadata": {},
   "outputs": [],
   "source": [
    "def train_vae(model, train_loader, optimizer, epochs=10, device='cuda'):\n",
    "    \"\"\"\n",
    "    Training loop for the VAE.\n",
    "    \"\"\"\n",
    "    model.train()\n",
    "    for epoch in range(epochs):\n",
    "        total_loss = 0\n",
    "        for batch_idx, (data, _) in enumerate(train_loader):\n",
    "            data = data.to(device)\n",
    "            data = data.view(data.size(0), -1)\n",
    "            \n",
    "            optimizer.zero_grad()\n",
    "            \n",
    "            recon_batch, mu, log_var = model(data)\n",
    "            loss = loss_function(recon_batch, data, mu, log_var)\n",
    "            \n",
    "            loss.backward()\n",
    "            total_loss += loss.item()\n",
    "            optimizer.step()\n",
    "            \n",
    "        avg_loss = total_loss / len(train_loader.dataset)\n",
    "        print(f'Epoch {epoch+1}: Average loss = {avg_loss:.4f}')"
   ]
  },
  {
   "cell_type": "markdown",
   "metadata": {},
   "source": [
    "## Define Loss function"
   ]
  },
  {
   "cell_type": "code",
   "execution_count": 28,
   "metadata": {},
   "outputs": [],
   "source": [
    "def loss_function(recon_x, x, mu, log_var):\n",
    "    \"\"\"\n",
    "    Computes the VAE loss function.\n",
    "    \"\"\"\n",
    "    # Reconstruction loss (binary cross entropy)\n",
    "    BCE = F.binary_cross_entropy(recon_x, x, reduction='sum')\n",
    "    \n",
    "    # KL divergence loss\n",
    "    KLD = -0.5 * torch.sum(1 + log_var - mu.pow(2) - log_var.exp())\n",
    "    \n",
    "    return BCE + KLD"
   ]
  },
  {
   "cell_type": "code",
   "execution_count": 29,
   "metadata": {},
   "outputs": [],
   "source": [
    "# Example usage\n",
    "def plot_results(model, test_loader, num_examples=10, device='cuda'):\n",
    "    \"\"\"\n",
    "    Plot original images, their reconstructions, and generated samples\n",
    "    \"\"\"\n",
    "    plt.figure(figsize=(15, 5))\n",
    "    \n",
    "    # Get some test examples\n",
    "    model.eval()\n",
    "    with torch.no_grad():\n",
    "        for batch_idx, (data, _) in enumerate(test_loader):\n",
    "            if batch_idx == 0:\n",
    "                data = data.to(device)\n",
    "                data_flat = data.view(data.size(0), -1)\n",
    "                \n",
    "                # Get reconstructions\n",
    "                recon_batch, mu, log_var = model(data_flat)\n",
    "                recon_batch = recon_batch.view(-1, 1, 28, 28)\n",
    "                \n",
    "                # Plot original images\n",
    "                for i in range(num_examples):\n",
    "                    plt.subplot(3, num_examples, i + 1)\n",
    "                    plt.imshow(data[i][0].cpu().numpy(), cmap='gray')\n",
    "                    plt.axis('off')\n",
    "                    if i == 0:\n",
    "                        plt.title('Original')\n",
    "                \n",
    "                # Plot reconstructed images\n",
    "                for i in range(num_examples):\n",
    "                    plt.subplot(3, num_examples, i + 1 + num_examples)\n",
    "                    plt.imshow(recon_batch[i][0].cpu().numpy(), cmap='gray')\n",
    "                    plt.axis('off')\n",
    "                    if i == 0:\n",
    "                        plt.title('Reconstructed')\n",
    "                \n",
    "                # Generate and plot random samples\n",
    "                sample = torch.randn(num_examples, model.fc_mu.out_features).to(device)\n",
    "                sample = model.decode(sample).view(-1, 1, 28, 28)\n",
    "                for i in range(num_examples):\n",
    "                    plt.subplot(3, num_examples, i + 1 + 2*num_examples)\n",
    "                    plt.imshow(sample[i][0].cpu().numpy(), cmap='gray')\n",
    "                    plt.axis('off')\n",
    "                    if i == 0:\n",
    "                        plt.title('Generated')\n",
    "                \n",
    "                plt.tight_layout()\n",
    "                plt.show()\n",
    "                break"
   ]
  },
  {
   "cell_type": "code",
   "execution_count": 30,
   "metadata": {},
   "outputs": [],
   "source": [
    "def generate_samples(model, num_samples=10, device='cuda'):\n",
    "    \"\"\"\n",
    "    Generate samples from the trained VAE.\n",
    "    \"\"\"\n",
    "    with torch.no_grad():\n",
    "        sample = torch.randn(num_samples, model.fc_mu.out_features).to(device)\n",
    "        generated = model.decode(sample)\n",
    "        return generated"
   ]
  },
  {
   "cell_type": "code",
   "execution_count": 24,
   "metadata": {},
   "outputs": [],
   "source": [
    "# Example usage\n",
    "def main():\n",
    "    # Set device\n",
    "    device = torch.device('cuda' if torch.cuda.is_available() else 'cpu')\n",
    "    \n",
    "    # Load MNIST dataset\n",
    "    transform = transforms.Compose([\n",
    "        transforms.ToTensor()\n",
    "    ])\n",
    "    \n",
    "    train_dataset = torchvision.datasets.MNIST(\n",
    "        root='./data',\n",
    "        train=True,\n",
    "        transform=transform,\n",
    "        download=True\n",
    "    )\n",
    "    \n",
    "    train_loader = DataLoader(\n",
    "        dataset=train_dataset,\n",
    "        batch_size=128,\n",
    "        shuffle=True\n",
    "    )\n",
    "    \n",
    "    # Initialize model and optimizer\n",
    "    model = VAE().to(device)\n",
    "    optimizer = torch.optim.Adam(model.parameters(), lr=1e-3)\n",
    "    \n",
    "    # Train the model\n",
    "    train_vae(model, train_loader, optimizer, epochs=10, device=device)\n",
    "    \n",
    "    # Generate samples\n",
    "    samples = generate_samples(model, num_samples=10, device=device)\n",
    "    \n",
    "    # Create test loader\n",
    "    test_loader = DataLoader(\n",
    "        dataset=torchvision.datasets.MNIST(\n",
    "            root='./data',\n",
    "            train=False,\n",
    "            transform=transform,\n",
    "            download=True\n",
    "        ),\n",
    "        batch_size=128,\n",
    "        shuffle=True\n",
    "    )\n",
    "    \n",
    "    # Plot results\n",
    "    plot_results(model, test_loader, num_examples=10, device=device)\n",
    "\n",
    "    return model, samples"
   ]
  },
  {
   "cell_type": "code",
   "execution_count": 25,
   "metadata": {},
   "outputs": [
    {
     "name": "stdout",
     "output_type": "stream",
     "text": [
      "Epoch 1: Average loss = 164.3877\n",
      "Epoch 2: Average loss = 121.9536\n",
      "Epoch 3: Average loss = 114.8755\n",
      "Epoch 4: Average loss = 111.9071\n",
      "Epoch 5: Average loss = 110.0571\n",
      "Epoch 6: Average loss = 108.8997\n",
      "Epoch 7: Average loss = 108.0461\n",
      "Epoch 8: Average loss = 107.3297\n",
      "Epoch 9: Average loss = 106.8608\n",
      "Epoch 10: Average loss = 106.3845\n"
     ]
    },
    {
     "data": {
      "image/png": "[encoded data removed]",
      "text/plain": [
       "<Figure size 1500x500 with 30 Axes>"
      ]
     },
     "metadata": {},
     "output_type": "display_data"
    }
   ],
   "source": [
    "if __name__ == \"__main__\":\n",
    "    main()"
   ]
  }
 ],
 "metadata": {
  "kernelspec": {
   "display_name": "less4",
   "language": "python",
   "name": "python3"
  },
  "language_info": {
   "codemirror_mode": {
    "name": "ipython",
    "version": 3
   },
   "file_extension": ".py",
   "mimetype": "text/x-python",
   "name": "python",
   "nbconvert_exporter": "python",
   "pygments_lexer": "ipython3",
   "version": "3.10.14"
  }
 },
 "nbformat": 4,
 "nbformat_minor": 2
}
